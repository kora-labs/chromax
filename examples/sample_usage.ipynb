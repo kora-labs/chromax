{
 "cells": [
  {
   "cell_type": "code",
   "execution_count": 1,
   "metadata": {},
   "outputs": [],
   "source": [
    "from chromax import Simulator\n",
    "from chromax.sample_data import genetic_map, genome\n",
    "import numpy as np\n",
    "from einops import rearrange\n",
    "\n",
    "simulator = Simulator(genetic_map)"
   ]
  },
  {
   "cell_type": "code",
   "execution_count": 2,
   "metadata": {},
   "outputs": [
    {
     "data": {
      "text/plain": [
       "Heading Date              1.893241\n",
       "Protein Content          -0.342523\n",
       "Plant Height             -2.781311\n",
       "Thousand Kernel Weight    0.099523\n",
       "Yield                     6.489075\n",
       "Fusarium Head Blight      2.204687\n",
       "Spike Emergence Period   -1.072572\n",
       "dtype: float32"
      ]
     },
     "execution_count": 2,
     "metadata": {},
     "output_type": "execute_result"
    }
   ],
   "source": [
    "population = simulator.load_population(genome)\n",
    "simulator.GEBV(population).mean()"
   ]
  },
  {
   "cell_type": "code",
   "execution_count": 3,
   "metadata": {},
   "outputs": [
    {
     "data": {
      "text/plain": [
       "Heading Date              6.297620\n",
       "Protein Content          -0.094808\n",
       "Plant Height             -2.649135\n",
       "Thousand Kernel Weight   -3.082972\n",
       "Yield                     2.520299\n",
       "Fusarium Head Blight     -2.526276\n",
       "Spike Emergence Period   -1.486085\n",
       "dtype: float32"
      ]
     },
     "execution_count": 3,
     "metadata": {},
     "output_type": "execute_result"
    }
   ],
   "source": [
    "selected_ind, _ = simulator.select(population, k=10)\n",
    "simulator.GEBV(selected_ind).mean()"
   ]
  },
  {
   "cell_type": "code",
   "execution_count": 5,
   "metadata": {},
   "outputs": [
    {
     "name": "stdout",
     "output_type": "stream",
     "text": [
      "45\n"
     ]
    }
   ],
   "source": [
    "new_pop = simulator.diallel(selected_ind, n_offspring=10)\n",
    "print(len(new_pop))\n",
    "new_pop = rearrange(new_pop, \"n nc m pl -> (n nc) m pl\")"
   ]
  },
  {
   "cell_type": "code",
   "execution_count": 7,
   "metadata": {},
   "outputs": [
    {
     "data": {
      "text/plain": [
       "5"
      ]
     },
     "execution_count": 7,
     "metadata": {},
     "output_type": "execute_result"
    }
   ],
   "source": [
    "cross_indices = np.array([\n",
    "      [1, 5], [3, 10], [100, 2], [7, 93], [28, 41]\n",
    "    ])\n",
    "population = simulator.cross(new_pop[cross_indices])\n",
    "len(population)"
   ]
  },
  {
   "cell_type": "code",
   "execution_count": null,
   "metadata": {},
   "outputs": [],
   "source": [
    "dh_pop = simulator.double_haploid(population)\n",
    "simulator.save_population(dh_pop, 'dh_genome.txt')"
   ]
  }
 ],
 "metadata": {
  "kernelspec": {
   "display_name": "sim",
   "language": "python",
   "name": "python3"
  },
  "language_info": {
   "codemirror_mode": {
    "name": "ipython",
    "version": 3
   },
   "file_extension": ".py",
   "mimetype": "text/x-python",
   "name": "python",
   "nbconvert_exporter": "python",
   "pygments_lexer": "ipython3",
   "version": "3.11.8"
  },
  "orig_nbformat": 4
 },
 "nbformat": 4,
 "nbformat_minor": 2
}
